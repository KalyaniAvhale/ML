{
  "nbformat": 4,
  "nbformat_minor": 0,
  "metadata": {
    "colab": {
      "name": "Gradio Example with Linear Regression problem.ipynb",
      "provenance": [],
      "collapsed_sections": []
    },
    "kernelspec": {
      "name": "python3",
      "display_name": "Python 3"
    },
    "language_info": {
      "name": "python"
    }
  },
  "cells": [
    {
      "cell_type": "markdown",
      "metadata": {
        "id": "jsAFDFw31Z-L"
      },
      "source": [
        "## Install "
      ]
    },
    {
      "cell_type": "code",
      "metadata": {
        "colab": {
          "base_uri": "https://localhost:8080/"
        },
        "id": "glsi6f3H1FSR",
        "outputId": "a96efcb4-3f28-4c97-9a2a-a4220d6df93e"
      },
      "source": [
        "!pip install gradio -q"
      ],
      "execution_count": 1,
      "outputs": [
        {
          "output_type": "stream",
          "text": [
            "\u001b[K     |████████████████████████████████| 2.2 MB 1.2 MB/s \n",
            "\u001b[K     |████████████████████████████████| 1.9 MB 38.4 MB/s \n",
            "\u001b[K     |████████████████████████████████| 206 kB 48.7 MB/s \n",
            "\u001b[K     |████████████████████████████████| 961 kB 46.4 MB/s \n",
            "\u001b[K     |████████████████████████████████| 63 kB 1.8 MB/s \n",
            "\u001b[K     |████████████████████████████████| 3.2 MB 47.9 MB/s \n",
            "\u001b[?25h  Building wheel for ffmpy (setup.py) ... \u001b[?25l\u001b[?25hdone\n",
            "  Building wheel for flask-cachebuster (setup.py) ... \u001b[?25l\u001b[?25hdone\n"
          ],
          "name": "stdout"
        }
      ]
    },
    {
      "cell_type": "markdown",
      "metadata": {
        "id": "HcUN9QF51dpL"
      },
      "source": [
        "## Import "
      ]
    },
    {
      "cell_type": "code",
      "metadata": {
        "id": "G_qcPYoG1BPV"
      },
      "source": [
        "import gradio as gr"
      ],
      "execution_count": 2,
      "outputs": []
    },
    {
      "cell_type": "markdown",
      "metadata": {
        "id": "TwYbnQME1lKq"
      },
      "source": [
        "## Build Machine Learning Model "
      ]
    },
    {
      "cell_type": "code",
      "metadata": {
        "colab": {
          "base_uri": "https://localhost:8080/"
        },
        "id": "bk-6Ug9q1JXH",
        "outputId": "251535df-2b8f-456f-c25e-f2d70021d9ae"
      },
      "source": [
        "import pandas as pd\n",
        "import numpy as np\n",
        "from sklearn.linear_model import LinearRegression\n",
        "from sklearn.metrics import accuracy_score\n",
        "\n",
        "#load the dataset to pandas dataframe\n",
        "URL = \"http://bit.ly/w-data\"\n",
        "student_data = pd.read_csv(URL)\n",
        "\n",
        "#Prepare data\n",
        "X = student_data.copy()\n",
        "y = student_data['Scores']\n",
        "del X['Scores']\n",
        "\n",
        "#create a machine learning model and train it\n",
        "lineareg = LinearRegression()\n",
        "lineareg.fit(X,y)\n",
        "print('Accuracy score : ',lineareg.score(X,y),'\\n')\n",
        "\n",
        "#now the model has been trained well let test it\n",
        "\n"
      ],
      "execution_count": 3,
      "outputs": [
        {
          "output_type": "stream",
          "text": [
            "Accuracy score :  0.9529481969048356 \n",
            "\n"
          ],
          "name": "stdout"
        }
      ]
    },
    {
      "cell_type": "markdown",
      "metadata": {
        "id": "S86Zxoxt1o_g"
      },
      "source": [
        "## Create UI Interface with Gradio"
      ]
    },
    {
      "cell_type": "code",
      "metadata": {
        "colab": {
          "base_uri": "https://localhost:8080/",
          "height": 588
        },
        "id": "E3k9Q7YI1LGP",
        "outputId": "afb83518-183a-4432-b040-e7c9151beafe"
      },
      "source": [
        "#function to predict the input hours\n",
        "def predict_score(hours):\n",
        "    hours = np.array(hours) #process input \n",
        "    pred_score = lineareg.predict(hours.reshape(-1,1)) #prediction\n",
        "    return np.round(pred_score[0], 2)\n",
        "\n",
        "\n",
        "input = gr.inputs.Number(label='Number of Hours studied')\n",
        "output = gr.outputs.Textbox(label='Predicted Score')\n",
        "\n",
        "gr.Interface( predict_score,\n",
        "              input,\n",
        "              output,live=True).launch();"
      ],
      "execution_count": 4,
      "outputs": [
        {
          "output_type": "stream",
          "text": [
            "Colab notebook detected. To show errors in colab notebook, set `debug=True` in `launch()`\n",
            "This share link will expire in 24 hours. If you need a permanent link, visit: https://gradio.app/introducing-hosted (NEW!)\n",
            "Running on External URL: https://31780.gradio.app\n",
            "Interface loading below...\n"
          ],
          "name": "stdout"
        },
        {
          "output_type": "display_data",
          "data": {
            "text/html": [
              "\n",
              "        <iframe\n",
              "            width=\"900\"\n",
              "            height=\"500\"\n",
              "            src=\"https://31780.gradio.app\"\n",
              "            frameborder=\"0\"\n",
              "            allowfullscreen\n",
              "        ></iframe>\n",
              "        "
            ],
            "text/plain": [
              "<IPython.lib.display.IFrame at 0x7fc905e99690>"
            ]
          },
          "metadata": {
            "tags": []
          }
        }
      ]
    }
  ]
}