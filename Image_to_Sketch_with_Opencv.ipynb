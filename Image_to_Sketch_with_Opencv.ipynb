{
  "nbformat": 4,
  "nbformat_minor": 0,
  "metadata": {
    "colab": {
      "name": "Image to Sketch with Opencv.ipynb",
      "provenance": [],
      "collapsed_sections": []
    },
    "kernelspec": {
      "name": "python3",
      "display_name": "Python 3"
    },
    "language_info": {
      "name": "python"
    }
  },
  "cells": [
    {
      "cell_type": "code",
      "metadata": {
        "id": "_8D9dGlS4q4n"
      },
      "source": [
        "pip install gradio -q"
      ],
      "execution_count": 1,
      "outputs": []
    },
    {
      "cell_type": "markdown",
      "metadata": {
        "id": "NIqyPk81U3Ny"
      },
      "source": [
        "## Convert Photo to Sketch "
      ]
    },
    {
      "cell_type": "code",
      "metadata": {
        "id": "N66FsmDdVBUN"
      },
      "source": [
        "#import libraries\n",
        "import cv2 #to work on image processing\n",
        "import gradio as gr #create UI to display images and test the function"
      ],
      "execution_count": 2,
      "outputs": []
    },
    {
      "cell_type": "code",
      "metadata": {
        "id": "T7OO0_xbI_4a"
      },
      "source": [
        "#function to perform image processing to convert rgb image to sketch\n",
        "\n",
        "def convert_photo_to_Sketch(image):\n",
        "\n",
        "  img = cv2.resize(image, (256, 256))\n",
        "\n",
        "  #convert image to RGB from BGR\n",
        "  RGB_img = cv2.cvtColor(img,cv2.COLOR_BGR2RGB)\n",
        "\n",
        "  #convert imge to grey\n",
        "  grey_img=cv2.cvtColor(RGB_img, cv2.COLOR_BGR2GRAY)\n",
        "\n",
        "  #invert grey scale image\n",
        "  invert_img=255-grey_img\n",
        "\n",
        "  #Gaussian fun to blur the image\n",
        "  blur_img=cv2.GaussianBlur(invert_img, (21,21),0)\n",
        "\n",
        "  #invert the blur image\n",
        "  inverted_blurred_img = 255 - blur_img\n",
        "\n",
        "  #skecth the image\n",
        "  sketch_img=cv2.divide(grey_img,inverted_blurred_img, scale=256.0)\n",
        "  rgb_sketch=cv2.cvtColor(sketch_img, cv2.COLOR_BGR2RGB)\n",
        "  \n",
        "  #return the final sketched image\n",
        "  return rgb_sketch\n",
        "  "
      ],
      "execution_count": 3,
      "outputs": []
    },
    {
      "cell_type": "markdown",
      "metadata": {
        "id": "CR9WWOB35Yra"
      },
      "source": [
        "## Create UI with gradio to display images"
      ]
    },
    {
      "cell_type": "code",
      "metadata": {
        "colab": {
          "base_uri": "https://localhost:8080/",
          "height": 588
        },
        "id": "4BR2sjNAVDfb",
        "outputId": "cdb9ecb0-d13d-406e-c89a-9f32af8c3d44"
      },
      "source": [
        "imagein = gr.inputs.Image(label='Original Image')\n",
        "imageout =  gr.outputs.Image(label='Sketched Image',type='pil')\n",
        "\n",
        "gr.Interface(fn=convert_photo_to_Sketch, inputs=imagein, outputs=imageout,title='Convert RGB Image to Sketch').launch();"
      ],
      "execution_count": 4,
      "outputs": [
        {
          "output_type": "stream",
          "text": [
            "Colab notebook detected. To show errors in colab notebook, set `debug=True` in `launch()`\n",
            "This share link will expire in 24 hours. If you need a permanent link, visit: https://gradio.app/introducing-hosted (NEW!)\n",
            "Running on External URL: https://37697.gradio.app\n",
            "Interface loading below...\n"
          ],
          "name": "stdout"
        },
        {
          "output_type": "display_data",
          "data": {
            "text/html": [
              "\n",
              "        <iframe\n",
              "            width=\"900\"\n",
              "            height=\"500\"\n",
              "            src=\"https://37697.gradio.app\"\n",
              "            frameborder=\"0\"\n",
              "            allowfullscreen\n",
              "        ></iframe>\n",
              "        "
            ],
            "text/plain": [
              "<IPython.lib.display.IFrame at 0x7f7e93662e90>"
            ]
          },
          "metadata": {
            "tags": []
          }
        }
      ]
    }
  ]
}